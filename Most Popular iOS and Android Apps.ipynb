{
 "cells": [
  {
   "cell_type": "markdown",
   "metadata": {},
   "source": [
    "# Most Popular iOS and Android Apps\n",
    "\n",
    "In order to determine which types of apps are most likely to attract users, I will analyze a dataset of apps from the Apple App Store and the Google Play Store. By examining what attributes make an app popular, hopefully I can aide aspiring app developers as they decide which types of apps they are going to develop.\n",
    "\n",
    "There are approximately 2 million iOS apps available on the App Store and 2.1 million Andriod apps available on the Google Play Store. Instead of analyzing all apps, I will examine one sample from the Apple App Store and Another from the Google Play Store, which are both taken from Kaggle:\n",
    "\n",
    "The [dataset](https://www.kaggle.com/lava18/google-play-store-apps) containing the approximately 7,000 iOS apps from the App Store can be downloaded by clicking [here](https://www.kaggle.com/lava18/google-play-store-apps/download) and the [dataset](https://www.kaggle.com/ramamet4/app-store-apple-data-set-10k-apps) containing the approximately 10,000 Android apps from the Play Store can be downloaded by clicking [here](https://www.kaggle.com/ramamet4/app-store-apple-data-set-10k-apps/download).\n",
    "\n",
    "Both the App Store and Play Store have around the same number of apps (close to 2M), meaning there are likely around the same number of app developers publishing apps on each store. Thus, \n",
    "young developers are unlikely to obtain any advantage from learning Xcode (for iOS) or Android Studio (for Android) first.\n",
    "\n",
    "Note that Xcode and Android Studio support different programming languages, so if you are already familiar with a few programming languages, take your experience into consideration when choosing an IDE. Circa August 2020, the IDE's support the following languages:\n",
    "- Xcode (iOS) = C, C++, Objective-C, Objective-C++, Java, AppleScript, Python, Ruby, ResEdit, and Swift\n",
    "- Android Developer (Android) = Java, C++, and Kotlin    \n",
    "\n",
    "Also note that Android Studio and Xcode have several options for phone emulators, so if a programmer doesn't have an Android/Apple phone or doesn't want to run unfinished apps on his or her personal device, he or she can still test for bugs."
   ]
  },
  {
   "cell_type": "markdown",
   "metadata": {},
   "source": [
    "## 1. Understanding the App and Play Store Datasets\n",
    "\n",
    "In this section, I try to better understand the datasets containing iOS and Android apps in order to more effectively clean and analyze them. First, I will take a look at the datasets in order to better understand the way the data is organized."
   ]
  },
  {
   "cell_type": "code",
   "execution_count": 1,
   "metadata": {},
   "outputs": [],
   "source": [
    "from csv import reader\n",
    "\n",
    "apple_open = open(\"apple_store.csv\")\n",
    "google_open = open(\"play_store.csv\")\n",
    "\n",
    "apple_read = reader(apple_open)\n",
    "google_read = reader(google_open)\n",
    "\n",
    "apple_data = list(apple_read)\n",
    "google_data = list(google_read)"
   ]
  },
  {
   "cell_type": "markdown",
   "metadata": {},
   "source": [
    "Next I will create a function in order to make this data more readable. Note that I am not using pandas on these datasets because I'm practicing my basic python without having to rely on the pandas library. "
   ]
  },
  {
   "cell_type": "markdown",
   "metadata": {},
   "source": [
    "### a) Increasing Readability\n",
    "\n",
    "Both of these datasets are formated as lists of lists, which is very difficult to read. In order to make the data more readable, I will create a function that converts each row of the dataset into a more readable format.\n",
    "- dataset = accepts a dataset as a list of lists\n",
    "- start/end = accept the first and last rows (starting from one, not zero, since the header is row 0) in the range of rows the user wants to examine\n",
    "- header = if set to True (defaulted to False), the function will print out the header\n",
    "- rows_and_columns = if set to True, will print out the number of rows and columns in the entire dataset"
   ]
  },
  {
   "cell_type": "code",
   "execution_count": 4,
   "metadata": {},
   "outputs": [],
   "source": [
    "def explore_data(dataset, start, end, header=False, rows_and_columns=False):\n",
    "    if header:\n",
    "        dataset_slice = dataset[start-1:end] # will start at index 0, which is the header\n",
    "    else:\n",
    "        dataset_slice = dataset[start:end] # will start at index 1, which is the first data entry\n",
    "    for row in dataset_slice:\n",
    "        print(row)\n",
    "        print('\\n') # adds an empty line after each data entry for readability\n",
    "\n",
    "    if rows_and_columns:\n",
    "        print('Number of rows:', len(dataset))\n",
    "        print('Number of columns:', len(dataset[0]))"
   ]
  },
  {
   "cell_type": "markdown",
   "metadata": {},
   "source": [
    "### b) Structure of the App and Play Store Datasets\n",
    "\n",
    "Just to get an idea for the structure of each dataset, here are the top five apps in the App Store and Play Store respectively, along with their headers."
   ]
  },
  {
   "cell_type": "code",
   "execution_count": 5,
   "metadata": {
    "scrolled": false
   },
   "outputs": [
    {
     "name": "stdout",
     "output_type": "stream",
     "text": [
      "['id', 'track_name', 'size_bytes', 'currency', 'price', 'rating_count_tot', 'rating_count_ver', 'user_rating', 'user_rating_ver', 'ver', 'cont_rating', 'prime_genre', 'sup_devices.num', 'ipadSc_urls.num', 'lang.num', 'vpp_lic']\n",
      "\n",
      "\n",
      "['284882215', 'Facebook', '389879808', 'USD', '0.0', '2974676', '212', '3.5', '3.5', '95.0', '4+', 'Social Networking', '37', '1', '29', '1']\n",
      "\n",
      "\n",
      "['389801252', 'Instagram', '113954816', 'USD', '0.0', '2161558', '1289', '4.5', '4.0', '10.23', '12+', 'Photo & Video', '37', '0', '29', '1']\n",
      "\n",
      "\n",
      "['529479190', 'Clash of Clans', '116476928', 'USD', '0.0', '2130805', '579', '4.5', '4.5', '9.24.12', '9+', 'Games', '38', '5', '18', '1']\n",
      "\n",
      "\n",
      "['420009108', 'Temple Run', '65921024', 'USD', '0.0', '1724546', '3842', '4.5', '4.0', '1.6.2', '9+', 'Games', '40', '5', '1', '1']\n",
      "\n",
      "\n",
      "['284035177', 'Pandora - Music & Radio', '130242560', 'USD', '0.0', '1126879', '3594', '4.0', '4.5', '8.4.1', '12+', 'Music', '37', '4', '1', '1']\n",
      "\n",
      "\n"
     ]
    }
   ],
   "source": [
    "explore_data(apple_data, 1, 6, True)"
   ]
  },
  {
   "cell_type": "code",
   "execution_count": 6,
   "metadata": {
    "scrolled": true
   },
   "outputs": [
    {
     "name": "stdout",
     "output_type": "stream",
     "text": [
      "['App', 'Category', 'Rating', 'Reviews', 'Size', 'Installs', 'Type', 'Price', 'Content Rating', 'Genres', 'Last Updated', 'Current Ver', 'Android Ver']\n",
      "\n",
      "\n",
      "['Photo Editor & Candy Camera & Grid & ScrapBook', 'ART_AND_DESIGN', '4.1', '159', '19M', '10,000+', 'Free', '0', 'Everyone', 'Art & Design', 'January 7, 2018', '1.0.0', '4.0.3 and up']\n",
      "\n",
      "\n",
      "['Coloring book moana', 'ART_AND_DESIGN', '3.9', '967', '14M', '500,000+', 'Free', '0', 'Everyone', 'Art & Design;Pretend Play', 'January 15, 2018', '2.0.0', '4.0.3 and up']\n",
      "\n",
      "\n",
      "['U Launcher Lite – FREE Live Cool Themes, Hide Apps', 'ART_AND_DESIGN', '4.7', '87510', '8.7M', '5,000,000+', 'Free', '0', 'Everyone', 'Art & Design', 'August 1, 2018', '1.2.4', '4.0.3 and up']\n",
      "\n",
      "\n",
      "['Sketch - Draw & Paint', 'ART_AND_DESIGN', '4.5', '215644', '25M', '50,000,000+', 'Free', '0', 'Teen', 'Art & Design', 'June 8, 2018', 'Varies with device', '4.2 and up']\n",
      "\n",
      "\n",
      "['Pixel Draw - Number Art Coloring Book', 'ART_AND_DESIGN', '4.3', '967', '2.8M', '100,000+', 'Free', '0', 'Everyone', 'Art & Design;Creativity', 'June 20, 2018', '1.1', '4.4 and up']\n",
      "\n",
      "\n"
     ]
    }
   ],
   "source": [
    "explore_data(google_data, 1, 6, True)"
   ]
  },
  {
   "cell_type": "markdown",
   "metadata": {},
   "source": [
    "### c) App and Play Store Column Names\n",
    "\n",
    "It appears as though the data displayed in both the App and Play Store datasets is relatively similar. Most of the column in both datasets will not be useful to my analysis. The table below shows which columns in each dataset will be examined.\n",
    "\n",
    "| App Store        | Play Store      | Purpose                                                                      |\n",
    "|:----------------:|:---------------:|:-----------------------------------------------------------------------------|\n",
    "|*track_name*      |*App*            |If the app is well known, additional info could be used to determine outliers.|\n",
    "|                  |*Category*       |Could be used to organize the type of app.                                    |\n",
    "|*prime_genre*     |*Genres*         |Could also be used to organize the type of app.                               |\n",
    "|                  |*Installs*       |Would be an excellent indicator of the app's popularity.                      |\n",
    "|*rating_count_tot*|                 |Would be a great indicator of an app's popularity.                            |\n",
    "|*price*           |*Price*          |Useful if we wanted to analyze free vs. paid apps separate                    |\n",
    "|*count_ratings*   |                 |Could determine which age groups a developer should target their audience.    |"
   ]
  },
  {
   "cell_type": "markdown",
   "metadata": {},
   "source": [
    "## 2. Cleaning the Datasets\n",
    "\n",
    "A disorganized dataset can greatly impede the ease by which one is able to analyze the data. In this section, I will clean up the data and get rid of unnecessary data entries."
   ]
  },
  {
   "cell_type": "markdown",
   "metadata": {},
   "source": [
    "### a) Detecting and Handling Missing Values\n",
    "\n",
    "Data entries with missing values can make analyzing the data much more difficult. In order to minimize difficulty, I will create a function that determines which rows in the dataset have missing values and returns them. Depending on what is missing, I might choose to delete the entire data entry, ignore the error, or fill in the missing value with a different value. The function below will find and return all missing values in a dataset, as well as the row index so it can be manipulated if necessary."
   ]
  },
  {
   "cell_type": "code",
   "execution_count": 7,
   "metadata": {},
   "outputs": [],
   "source": [
    "def data_with_missing_values(dataset):\n",
    "    missing_values = {}\n",
    "    row_index = 1 # start iterating at the first data entry, which is index 1 (index 0 is the header)\n",
    "    for row in dataset[1:]: # iterating through all data entry rows in the dataset\n",
    "        temp_dict = {} # will contain index of data entry\n",
    "        temp_list = []\n",
    "        # will determine what the name of the app with the missing values is (later used as dictionary key)\n",
    "        if dataset[0][1] == \"track_name\":\n",
    "            app_name = row[1]\n",
    "        else:\n",
    "            app_name = row[0]\n",
    "        column_index = 0\n",
    "        for entry in row:\n",
    "            if entry == \"\": # will append only missing values\n",
    "                temp_list.append(dataset[0][column_index]) # will append the column name of the missing value\n",
    "            column_index += 1\n",
    "        if len(temp_list) > 0: # won't add a data entry unless there is at least one data entry missing\n",
    "            temp_dict[\"missing\"] = temp_list # includes all missing values\n",
    "            temp_dict[\"index\"] = row_index # includes index of data entry with missing values\n",
    "            missing_values[app_name] = temp_dict\n",
    "        row_index += 1\n",
    "    return missing_values"
   ]
  },
  {
   "cell_type": "code",
   "execution_count": 8,
   "metadata": {},
   "outputs": [
    {
     "data": {
      "text/plain": [
       "{}"
      ]
     },
     "execution_count": 8,
     "metadata": {},
     "output_type": "execute_result"
    }
   ],
   "source": [
    "data_with_missing_values(apple_data)"
   ]
  },
  {
   "cell_type": "code",
   "execution_count": 9,
   "metadata": {},
   "outputs": [
    {
     "data": {
      "text/plain": [
       "{'Market Update Helper': {'missing': ['Current Ver'], 'index': 1554},\n",
       " 'Life Made WI-Fi Touchscreen Photo Frame': {'missing': ['Content Rating'],\n",
       "  'index': 10473}}"
      ]
     },
     "execution_count": 9,
     "metadata": {},
     "output_type": "execute_result"
    }
   ],
   "source": [
    "data_with_missing_values(google_data)"
   ]
  },
  {
   "cell_type": "markdown",
   "metadata": {},
   "source": [
    "All though none of the data entries in the App Store dataset have missing entries, there are two data entries with missing values in the Play Store dataset. Let's take a look at both of these data entries to determine our next steps."
   ]
  },
  {
   "cell_type": "code",
   "execution_count": 10,
   "metadata": {
    "scrolled": false
   },
   "outputs": [
    {
     "name": "stdout",
     "output_type": "stream",
     "text": [
      "['App', 'Category', 'Rating', 'Reviews', 'Size', 'Installs', 'Type', 'Price', 'Content Rating', 'Genres', 'Last Updated', 'Current Ver', 'Android Ver']\n",
      "\n",
      "['Market Update Helper', 'LIBRARIES_AND_DEMO', '4.1', '20145', '11k', '1,000,000+', 'Free', '0', 'Everyone', 'Libraries & Demo', 'February 12, 2013', '', '1.5 and up']\n",
      "\n",
      "['Life Made WI-Fi Touchscreen Photo Frame', '1.9', '19', '3.0M', '1,000+', 'Free', '0', 'Everyone', '', 'February 11, 2018', '1.0.19', '4.0 and up']\n"
     ]
    }
   ],
   "source": [
    "print(google_data[0])\n",
    "print(\"\")\n",
    "print(google_data[1554])\n",
    "print(\"\")\n",
    "print(google_data[10473])"
   ]
  },
  {
   "cell_type": "markdown",
   "metadata": {},
   "source": [
    "It looks like the \"Current Ver\" is missing from index 1554 and the \"Content Rating\" is missing from index 10473. The first entry seems to be a rather popular app with over a million downloads, but the other entry has much less downloads. Although neither of these missing values are likely to effect our investigation, I would rather eliminate the second data entry as it is unlikely to affect the analysis due to its unpopularity."
   ]
  },
  {
   "cell_type": "code",
   "execution_count": 11,
   "metadata": {},
   "outputs": [
    {
     "name": "stdout",
     "output_type": "stream",
     "text": [
      "10842\n",
      "10841\n"
     ]
    }
   ],
   "source": [
    "print(len(google_data))\n",
    "del google_data[10473]\n",
    "print(len(google_data))"
   ]
  },
  {
   "cell_type": "markdown",
   "metadata": {},
   "source": [
    "Now that we have successfully deleted this data entry from our Google Play dataset, I will check to determine whether the dataset contains any entries that were recorded multiple times."
   ]
  },
  {
   "cell_type": "markdown",
   "metadata": {},
   "source": [
    "### b) Detecting and Dealing with Duplicate Entries\n",
    "\n",
    "I only want to analyze unique apps, as multiple instances of an app could warp my analysis, especially since popular apps are more likely to be recorded multiple times. Using the for loops below, I will iterate through every row in both databases and add all of the unique apps in a dictionary."
   ]
  },
  {
   "cell_type": "code",
   "execution_count": 12,
   "metadata": {},
   "outputs": [
    {
     "name": "stdout",
     "output_type": "stream",
     "text": [
      "There are 7198 apps in our App Store dataset.\n",
      "There are 7195 unique apps in our App Store dataset.\n"
     ]
    }
   ],
   "source": [
    "unique_iOS = {}\n",
    "\n",
    "for data in apple_data[1:]:\n",
    "    app_name = data[1].lower().capitalize() # accounts for differences in capitalization in app name\n",
    "    num_reviews = float(data[7]) # converts num_reviews from a string to a float\n",
    "    \n",
    "    if app_name in unique_iOS and unique_iOS[app_name] < num_reviews:\n",
    "        unique_iOS[app_name] = num_reviews # duplicate with most reviews will be added to the dictionary\n",
    "    elif app_name not in unique_iOS:\n",
    "        unique_iOS[app_name] = num_reviews # adds app name if not already included in the unique_iOS dictionary \n",
    "        \n",
    "print(\"There are \" + str(len(apple_data)) + \" apps in our App Store dataset.\")\n",
    "print(\"There are \" + str(len(unique_iOS)) + \" unique apps in our App Store dataset.\")"
   ]
  },
  {
   "cell_type": "code",
   "execution_count": 13,
   "metadata": {},
   "outputs": [
    {
     "name": "stdout",
     "output_type": "stream",
     "text": [
      "There are 10841 apps in our Play dataset.\n",
      "There are 9638 unique apps in our Play dataset.\n"
     ]
    }
   ],
   "source": [
    "unique_Android = {}\n",
    "\n",
    "for data in google_data[1:]:\n",
    "    app_name = data[0].lower().capitalize() # accounts for differences in capitalization in app name\n",
    "    num_reviews = float(data[3]) # converts num_reviews from a string to a float\n",
    "    \n",
    "    if app_name in unique_Android and unique_Android[app_name] < num_reviews:\n",
    "        unique_Android[app_name] = num_reviews # duplicate with most reviews will be added to the dictionary\n",
    "    elif app_name not in unique_Android:\n",
    "        unique_Android[app_name] = num_reviews # adds app name if not already included in the unique_Android dictionary\n",
    "\n",
    "print(\"There are \" + str(len(google_data)) + \" apps in our Play dataset.\")\n",
    "print(\"There are \" + str(len(unique_Android)) + \" unique apps in our Play dataset.\")"
   ]
  },
  {
   "cell_type": "markdown",
   "metadata": {},
   "source": [
    "It looks like there are only 3 duplicate entries in the App Store dataset, but over 1200 duplicate entries in the Play Store dataset. We will need to remove these duplicate entries."
   ]
  },
  {
   "cell_type": "markdown",
   "metadata": {},
   "source": [
    "### c) Eliminating Duplicate Entries from the Datasets\n",
    "\n",
    "Using the two dictionaries that contain only unique apps created above, I can create lists of all the unique apps in both the App store and the Play store."
   ]
  },
  {
   "cell_type": "code",
   "execution_count": 14,
   "metadata": {},
   "outputs": [
    {
     "name": "stdout",
     "output_type": "stream",
     "text": [
      "['284882215', 'Facebook', '389879808', 'USD', '0.0', '2974676', '212', '3.5', '3.5', '95.0', '4+', 'Social Networking', '37', '1', '29', '1']\n",
      "\n",
      "\n",
      "['389801252', 'Instagram', '113954816', 'USD', '0.0', '2161558', '1289', '4.5', '4.0', '10.23', '12+', 'Photo & Video', '37', '0', '29', '1']\n",
      "\n",
      "\n",
      "['529479190', 'Clash of Clans', '116476928', 'USD', '0.0', '2130805', '579', '4.5', '4.5', '9.24.12', '9+', 'Games', '38', '5', '18', '1']\n",
      "\n",
      "\n",
      "Number of rows: 7195\n",
      "Number of columns: 16\n"
     ]
    }
   ],
   "source": [
    "apple_clean = [] # will be a list of data entries, which will be lists themselves\n",
    "apple_added = []\n",
    "\n",
    "for app in apple_data[1:]:\n",
    "    app_name = app[1].lower().capitalize() # accounts for differences in capitalization in app name\n",
    "    num_reviews = float(app[7]) # converts num_reviews from a string to a float\n",
    "    \n",
    "    if (unique_iOS[app_name] == num_reviews) and (app_name not in apple_added):\n",
    "        apple_clean.append(app) # only adds data entries that aren't duplicates\n",
    "        apple_added.append(app_name) # list of duplicate entries, to prevent duplicates from being added in apple_clean \n",
    "        \n",
    "explore_data(apple_clean, 1, 3, True, True)"
   ]
  },
  {
   "cell_type": "code",
   "execution_count": 15,
   "metadata": {},
   "outputs": [
    {
     "name": "stdout",
     "output_type": "stream",
     "text": [
      "['Photo Editor & Candy Camera & Grid & ScrapBook', 'ART_AND_DESIGN', '4.1', '159', '19M', '10,000+', 'Free', '0', 'Everyone', 'Art & Design', 'January 7, 2018', '1.0.0', '4.0.3 and up']\n",
      "\n",
      "\n",
      "['U Launcher Lite – FREE Live Cool Themes, Hide Apps', 'ART_AND_DESIGN', '4.7', '87510', '8.7M', '5,000,000+', 'Free', '0', 'Everyone', 'Art & Design', 'August 1, 2018', '1.2.4', '4.0.3 and up']\n",
      "\n",
      "\n",
      "['Sketch - Draw & Paint', 'ART_AND_DESIGN', '4.5', '215644', '25M', '50,000,000+', 'Free', '0', 'Teen', 'Art & Design', 'June 8, 2018', 'Varies with device', '4.2 and up']\n",
      "\n",
      "\n",
      "Number of rows: 9638\n",
      "Number of columns: 13\n"
     ]
    }
   ],
   "source": [
    "google_clean = [] # will be a list of data entries, which will be lists themselves\n",
    "google_added = []\n",
    "\n",
    "for app in google_data[1:]:\n",
    "    app_name = app[0].lower().capitalize() # accounts for differences in capitalization in app name\n",
    "    num_reviews = float(app[3]) # converts num_reviews from a string to a float\n",
    "    \n",
    "    if (unique_Android[app_name] == num_reviews) and (app_name not in google_added):\n",
    "        google_clean.append(app) # only adds data entries that aren't duplicates\n",
    "        google_added.append(app_name) # list of duplicate entries, to prevent duplicates from being added in apple_clean \n",
    "        \n",
    "explore_data(google_clean, 0, 3, False, True)"
   ]
  },
  {
   "cell_type": "markdown",
   "metadata": {},
   "source": [
    "The number of rows in both the apple_clean and google_clean matches the number of unique apps determined by the unique_iOS and unique_Android dictionaries. I will use the cleaned versions of the datasets for the remainder of my analysis."
   ]
  },
  {
   "cell_type": "markdown",
   "metadata": {},
   "source": [
    "### d) Removing Entries Consisting of Primarily Non-Roman Characters\n",
    "\n",
    "Many of the apps on both stores are written in langauges with non-Roman characters, especially apps that are designed for Asian markets, which do not use Roman characters. These will be difficult to analyze since the data is likely to be in languages I can't understand, so any dataset with non-Roman characters should be removed from the dataset. Roman chracters are denoted by characters in the order range 0-127 (we can convert the character to a order range using the ord function), so any app with characters outside of that range is likely to be a foreign apps. \n",
    "\n",
    "However, it is important to note that many apps have emojis in their names, so even if an app name has a few non-Roman characters in the name, it should not be removed from the dataset. The function below will return False if any string has more than 3 non-Roman characters."
   ]
  },
  {
   "cell_type": "code",
   "execution_count": 16,
   "metadata": {},
   "outputs": [],
   "source": [
    "def roman_only(string):\n",
    "    bad_chars = 0\n",
    "    for char in string: # checks each char in the string to see if it is a Roman character\n",
    "        if ord(char) > 127:\n",
    "            bad_chars += 1\n",
    "    if bad_chars > 3: # returns False if there are more than 3 non-Roman characters\n",
    "        return False\n",
    "    return True"
   ]
  },
  {
   "cell_type": "code",
   "execution_count": 17,
   "metadata": {},
   "outputs": [
    {
     "name": "stdout",
     "output_type": "stream",
     "text": [
      "False\n",
      "True\n"
     ]
    }
   ],
   "source": [
    "# Testing Function\n",
    "print(roman_only('爱奇艺PPS -《欢乐颂2》电视剧热播'))\n",
    "print(roman_only('Instagram'))"
   ]
  },
  {
   "cell_type": "markdown",
   "metadata": {},
   "source": [
    "Using the roman_only function, I will parse through the apps within both of the cleaned datasets to remove all the apps containing primarily non-Roman characters from the selected sample size."
   ]
  },
  {
   "cell_type": "code",
   "execution_count": 18,
   "metadata": {},
   "outputs": [
    {
     "name": "stdout",
     "output_type": "stream",
     "text": [
      "There are 6181 apps (85.91%) consisting of Roman characters in our new App store dataset.\n",
      "There are 1014 apps (14.09%) consisting of non-Roman characters in our new App store dataset.\n"
     ]
    }
   ],
   "source": [
    "apple_roman = []\n",
    "\n",
    "for app in apple_clean:\n",
    "    app_name = app[1]\n",
    "    \n",
    "    if roman_only(app_name):\n",
    "        apple_roman.append(app) # will add only apps with Roman characters to the new dataset\n",
    "        \n",
    "num_roman_apple = len(apple_roman)\n",
    "num_clean_apple = len(apple_clean)\n",
    "num_non_roman_apple = num_clean_apple - num_roman_apple\n",
    "\n",
    "print(\"There are \" + str(num_roman_apple) + \" apps ({:.2%}) consisting of Roman characters in our new App store dataset.\".format(num_roman_apple/num_clean_apple))\n",
    "print(\"There are \" + str(num_non_roman_apple) + \" apps ({:.2%}) consisting of non-Roman characters in our new App store dataset.\".format(num_non_roman_apple/num_clean_apple))\n"
   ]
  },
  {
   "cell_type": "code",
   "execution_count": 19,
   "metadata": {},
   "outputs": [
    {
     "name": "stdout",
     "output_type": "stream",
     "text": [
      "There are 9593 apps (99.53%) consisting of Roman characters in our new Play store dataset.\n",
      "There are 45 apps (0.47%) consisting of non-Roman characters in our new Play store dataset.\n"
     ]
    }
   ],
   "source": [
    "google_roman = []\n",
    "\n",
    "for app in google_clean:\n",
    "    app_name = app[0]\n",
    "    \n",
    "    if roman_only(app_name) == True:\n",
    "        google_roman.append(app) # will add only apps with Roman characters to the new dataset\n",
    "        \n",
    "num_roman_google = len(google_roman)\n",
    "num_clean_google = len(google_clean)\n",
    "num_non_roman_google = num_clean_google - num_roman_google\n",
    "        \n",
    "print(\"There are \" + str(num_roman_google) + \" apps ({:.2%}) consisting of Roman characters in our new Play store dataset.\".format(num_roman_google/num_clean_google))\n",
    "print(\"There are \" + str(num_non_roman_google) + \" apps ({:.2%}) consisting of non-Roman characters in our new Play store dataset.\".format(num_non_roman_google/num_clean_google))\n"
   ]
  },
  {
   "cell_type": "markdown",
   "metadata": {},
   "source": [
    "There are a lot more apps with non-Roman names in the App store than there are in the Play store. Perhaps the App Store contains many more apps that are designed for countries that don't use the Western style alphabet. Or perhaps it is related to the manner in which the data was collected. Regardless, now that I have created subsets containing only apps consisting of primarily non-Roman characters, I will use these subsets for the remainder of my analysis."
   ]
  },
  {
   "cell_type": "markdown",
   "metadata": {},
   "source": [
    "### e) Removing Non-Free Apps\n",
    "\n",
    "Since our main indicator of a successful app is popularity, rather than profitability, I will only be looking at free apps and will remove all of the paid apps from our dataset. Because paid apps cost money, they are less likely to be downloaded and thus certain kinds of apps appear to be less popular than they would be if they were free. Thus, we will only analyze free apps and assume that revenue is generated via other means, such as advertisements, in-app purchases, or data harvesting."
   ]
  },
  {
   "cell_type": "code",
   "execution_count": 20,
   "metadata": {},
   "outputs": [
    {
     "name": "stdout",
     "output_type": "stream",
     "text": [
      "There are 3220 free apps (52.10%) in our new Apple database.\n",
      "There are 2961 paid apps (47.90%) in our new Apple database.\n"
     ]
    }
   ],
   "source": [
    "apple_free = []\n",
    "\n",
    "for app in apple_roman:\n",
    "    price = float(app[4])\n",
    "    \n",
    "    if price == 0:\n",
    "        apple_free.append(app) # will add only free apps to the new dataset\n",
    "\n",
    "num_free_apple = len(apple_free)\n",
    "num_paid_apple = num_roman_apple - num_free_apple\n",
    "\n",
    "print(\"There are \" + str(num_free_apple) + \" free apps ({:.2%}) in our new Apple database.\".format(num_free_apple/num_roman_apple))\n",
    "print(\"There are \" + str(num_paid_apple) + \" paid apps ({:.2%}) in our new Apple database.\".format(num_paid_apple/num_roman_apple))\n"
   ]
  },
  {
   "cell_type": "code",
   "execution_count": 21,
   "metadata": {
    "scrolled": true
   },
   "outputs": [
    {
     "name": "stdout",
     "output_type": "stream",
     "text": [
      "There are 8845 free apps (92.20%) in our new Google Play database.\n",
      "There are 748 free apps (7.80%) in our new Google Play database.\n"
     ]
    }
   ],
   "source": [
    "google_free = []\n",
    "\n",
    "for app in google_roman:\n",
    "    price = app[6]\n",
    "    \n",
    "    if price == \"Free\":\n",
    "        google_free.append(app) # will add only free apps to the new dataset\n",
    "\n",
    "num_free_google = len(google_free)\n",
    "num_paid_google = num_roman_google - num_free_google\n",
    "        \n",
    "print(\"There are \" + str(num_free_google) + \" free apps ({:.2%}) in our new Google Play database.\".format(num_free_google/num_roman_google))\n",
    "print(\"There are \" + str(num_paid_google) + \" free apps ({:.2%}) in our new Google Play database.\".format(num_paid_google/num_roman_google))\n"
   ]
  },
  {
   "cell_type": "markdown",
   "metadata": {},
   "source": [
    "Note that paid apps are much more common in the App Store (around 50% of the total apps in our subset) than they are in the Play Store (around 8% of total apps in our subset). Understanding this distinction might be useful when strategizing how to generate revenue. Perhaps App store customers are more willing to pay for apps than Play store customers are."
   ]
  },
  {
   "cell_type": "markdown",
   "metadata": {},
   "source": [
    "## 3. Functions for Analyzing the Datasets\n",
    "\n",
    "Now that I have cleaned the datasets, I will start comparing the attributes within the datasets to help determine which apps a developer should focus his or her time creating. First, I will create two functions that I will be able to use in order to analyze the columns in both datasets."
   ]
  },
  {
   "cell_type": "markdown",
   "metadata": {},
   "source": [
    "### a) Frequency Table Function\n",
    "\n",
    "The function below creates a frequency table (as a dictionary) for a chosen column within a given dataset. If you select a column index within a given dataset, the function will return  every possible variation within that index with it's given frequency with the data stored as a dictionary."
   ]
  },
  {
   "cell_type": "code",
   "execution_count": 22,
   "metadata": {},
   "outputs": [],
   "source": [
    "def freq_table(dataset, index):\n",
    "    \n",
    "    frequency_table = {}\n",
    "    \n",
    "    for app in dataset:\n",
    "        target_index = app[index]\n",
    "        \n",
    "        if target_index in frequency_table: # adds 1 to the total of the variation count if the value has already been logged\n",
    "            frequency_table[target_index] += 1\n",
    "        else:\n",
    "            frequency_table[target_index] = 1 # sets the total of the variation count to one if it hasn't been logged\n",
    "            \n",
    "    for variation in frequency_table:\n",
    "        percentage = frequency_table[variation]\n",
    "        percentage /= len(dataset)\n",
    "        percentage *= 100\n",
    "        percentage = round(percentage, 2) # converts variation total from a count to a percentage\n",
    "        frequency_table[variation] = percentage\n",
    "        \n",
    "    return frequency_table"
   ]
  },
  {
   "cell_type": "code",
   "execution_count": 23,
   "metadata": {},
   "outputs": [
    {
     "data": {
      "text/plain": [
       "{'10,000+': 10.19,\n",
       " '5,000,000+': 6.84,\n",
       " '50,000,000+': 2.31,\n",
       " '100,000+': 11.55,\n",
       " '50,000+': 4.76,\n",
       " '1,000,000+': 15.75,\n",
       " '10,000,000+': 10.57,\n",
       " '5,000+': 4.51,\n",
       " '500,000+': 5.55,\n",
       " '1,000,000,000+': 0.23,\n",
       " '100,000,000+': 2.13,\n",
       " '1,000+': 8.39,\n",
       " '500,000,000+': 0.27,\n",
       " '500+': 3.26,\n",
       " '100+': 6.9,\n",
       " '50+': 1.92,\n",
       " '10+': 3.54,\n",
       " '1+': 0.51,\n",
       " '5+': 0.79,\n",
       " '0+': 0.05}"
      ]
     },
     "execution_count": 23,
     "metadata": {},
     "output_type": "execute_result"
    }
   ],
   "source": [
    "freq_table(google_free, 5)"
   ]
  },
  {
   "cell_type": "markdown",
   "metadata": {},
   "source": [
    "### b) Display Table Function\n",
    "\n",
    "Next I will create a function that uses the freq_table function created and formats the possible variations of the selected index in a manner that is much more readable."
   ]
  },
  {
   "cell_type": "code",
   "execution_count": 24,
   "metadata": {},
   "outputs": [],
   "source": [
    "def display_table(dataset, index):\n",
    "    table = freq_table(dataset, index)\n",
    "    table_display = [] # list enables variations to be sorted by percentage of total (not possible in dictionary)\n",
    "    \n",
    "    for key, value in table.items():\n",
    "        value_key_switch = (value, key) # switchs the order of key and value to enable sorting process\n",
    "        table_display.append(value_key_switch)\n",
    "\n",
    "    table_sorted = sorted(table_display, reverse = True) # sorting the value by percentage of total\n",
    "    for entry in table_sorted: # returns key-value pair in their original orientation and makes it more readable\n",
    "        print(entry[1], ':', entry[0])"
   ]
  },
  {
   "cell_type": "markdown",
   "metadata": {},
   "source": [
    "## 4. Comparing the Genres Amongst Apple App Store Apps\n",
    "\n",
    "In order to decides which type of app an iOS developer should develop, a developer should consider the following: \n",
    "- The average number of users per type\n",
    "- The overall popularity of the type\n",
    "- The distribution of app popularity within a type\n",
    "- Which revenue streams are possible with the type\n",
    "- The cost associated with designing the app\n",
    "\n",
    "The best indicator of app type in this dataset is the prime_genre column, which is index 11. Let's take a closer looks at the variation within this column using the display_table function we created earlier."
   ]
  },
  {
   "cell_type": "code",
   "execution_count": 25,
   "metadata": {},
   "outputs": [
    {
     "name": "stdout",
     "output_type": "stream",
     "text": [
      "Games : 58.14\n",
      "Entertainment : 7.89\n",
      "Photo & Video : 4.97\n",
      "Education : 3.66\n",
      "Social Networking : 3.29\n",
      "Shopping : 2.61\n",
      "Utilities : 2.52\n",
      "Sports : 2.14\n",
      "Music : 2.05\n",
      "Health & Fitness : 2.02\n",
      "Productivity : 1.74\n",
      "Lifestyle : 1.58\n",
      "News : 1.34\n",
      "Travel : 1.24\n",
      "Finance : 1.12\n",
      "Weather : 0.87\n",
      "Food & Drink : 0.81\n",
      "Reference : 0.56\n",
      "Business : 0.53\n",
      "Book : 0.43\n",
      "Navigation : 0.19\n",
      "Medical : 0.19\n",
      "Catalogs : 0.12\n"
     ]
    }
   ],
   "source": [
    "display_table(apple_free, 11)"
   ]
  },
  {
   "cell_type": "markdown",
   "metadata": {},
   "source": [
    "Game apps are extremely popular in the App Store, consisting of over 58% of the free apps in our dataset. It appears as though the next two most popular categories (Entertainment and Photo & Video), suggesting that iOS developers primarily create entertainment-driven apps rather than apps for more practical purposes."
   ]
  },
  {
   "cell_type": "markdown",
   "metadata": {},
   "source": [
    "### a) Average Number of Ratings of Apps By Genre\n",
    "\n",
    "The for loop below will be used to sort each of the genres based on their average number of ratings, which is the best indicator of popularity amongst Apple Store apps. It will also list the frequency of each genre. Then, I will create another for loop that will print the items within the newly-created list will be used to make the information more readable."
   ]
  },
  {
   "cell_type": "code",
   "execution_count": 26,
   "metadata": {},
   "outputs": [
    {
     "name": "stdout",
     "output_type": "stream",
     "text": [
      "Navigation: \n",
      "  Average Number of Ratings: 86090.33 \n",
      "  Frequency: 0.19 \n",
      "\n",
      "Reference: \n",
      "  Average Number of Ratings: 74942.11 \n",
      "  Frequency: 0.56 \n",
      "\n",
      "Social Networking: \n",
      "  Average Number of Ratings: 71548.35 \n",
      "  Frequency: 3.29 \n",
      "\n",
      "Music: \n",
      "  Average Number of Ratings: 57326.53 \n",
      "  Frequency: 2.05 \n",
      "\n",
      "Weather: \n",
      "  Average Number of Ratings: 52279.89 \n",
      "  Frequency: 0.87 \n",
      "\n"
     ]
    }
   ],
   "source": [
    "users_per_genre = []\n",
    "genres = freq_table(apple_free, 11) # will use the frequency table created earlier to assist the iteration process\n",
    "\n",
    "for gen in list(genres):\n",
    "    count = 0 # will count the total number of review of an app within each genre\n",
    "    len_gen = 0 # will count the total number of apps within each genre\n",
    "        \n",
    "    for app in apple_free:\n",
    "        genre = app[11]\n",
    "        if genre == gen:\n",
    "            num_rating = float(app[5])\n",
    "            count += num_rating\n",
    "            len_gen += 1\n",
    "    avg_ratings = count / len_gen # contains the average amount of ratings per genre\n",
    "    \n",
    "    users_per_genre.append((avg_ratings, gen)) # appends tuple (reversed order) for later sorting\n",
    "    \n",
    "users_per_genre = sorted(users_per_genre, reverse = True) # sorting genres based on average number of ratings\n",
    "frequency = freq_table(apple_free, 11)\n",
    "\n",
    "for genre in users_per_genre[:5]:\n",
    "    print(genre[1] + \":\", \"\\n  Average Number of Ratings:\", round(genre[0], 2), \"\\n  Frequency:\", frequency[genre[1]], \"\\n\")\n",
    "    "
   ]
  },
  {
   "cell_type": "markdown",
   "metadata": {},
   "source": [
    "Note that the two highest genres, Navigation and Reference, have a very low frequency. Since a few extremely popular apps could be skewing the average to make it appear as though creating an app in that genre will ensure it's success, I will need to take a closer look at the apps within these categories."
   ]
  },
  {
   "cell_type": "markdown",
   "metadata": {},
   "source": [
    "### b) App Store Genres with High Average Number of Ratings\n",
    "\n",
    "Lets take a look at the four genres that contain the highest average number of ratings. All four categories have a fairly low frequency, so it is possible that a few incredibly popular apps are inflating the average. Let's take a look at the ten most popular apps for each of these four genres."
   ]
  },
  {
   "cell_type": "code",
   "execution_count": 27,
   "metadata": {},
   "outputs": [
    {
     "name": "stdout",
     "output_type": "stream",
     "text": [
      "['Waze - GPS Navigation, Maps & Real-time Traffic : 345046', 'Google Maps - Navigation & Transit : 154911', 'Geocaching® : 12811', 'CoPilot GPS – Car Navigation & Offline Maps : 3582', 'ImmobilienScout24: Real Estate Search in Germany : 187', 'Railway Route Search : 5'] \n",
      "\n",
      " ['Bible : 985920', 'Dictionary.com Dictionary & Thesaurus : 200047', 'Dictionary.com Dictionary & Thesaurus for iPad : 54175', 'Google Translate : 26786', 'Muslim Pro: Ramadan 2017 Prayer Times, Azan, Quran : 18418', 'New Furniture Mods - Pocket Wiki & Game Tools for Minecraft PC Edition : 17588', 'Merriam-Webster Dictionary : 16849', 'Night Sky : 12122', 'City Maps for Minecraft PE - The Best Maps for Minecraft Pocket Edition (MCPE) : 8535', 'LUCKY BLOCK MOD ™ for Minecraft PC Edition - The Best Pocket Wiki & Mods Installer Tools : 4693'] \n",
      "\n",
      " ['Facebook : 2974676', 'Pinterest : 1061624', 'Skype for iPhone : 373519', 'Messenger : 351466', 'Tumblr : 334293', 'WhatsApp Messenger : 287589', 'Kik : 260965', 'ooVoo – Free Video Call, Text and Voice : 177501', 'TextNow - Unlimited Text + Calls : 164963', 'Viber Messenger – Text & Call : 164249'] \n",
      "\n",
      " ['Pandora - Music & Radio : 1126879', 'Spotify Music : 878563', 'Shazam - Discover music, artists, videos & lyrics : 402925', 'iHeartRadio – Free Music & Radio Stations : 293228', 'SoundCloud - Music & Audio : 135744', 'Magic Piano by Smule : 131695', 'Smule Sing! : 119316', 'TuneIn Radio - MLB NBA Audiobooks Podcasts Music : 110420', 'Amazon Music : 106235', 'SoundHound Song Search & Music Player : 82602']\n"
     ]
    }
   ],
   "source": [
    "navigation_apps = []\n",
    "reference_apps = []\n",
    "social_apps = []\n",
    "music_apps = []\n",
    "\n",
    "for app in apple_free:\n",
    "    if app[11] == \"Navigation\":\n",
    "        navigation_apps.append(str(app[1]) + \" : \" + str(app[5]))\n",
    "    elif app[11] == \"Reference\":\n",
    "        reference_apps.append(str(app[1]) + \" : \" + str(app[5]))\n",
    "    elif app[11] == \"Social Networking\":\n",
    "        social_apps.append(str(app[1]) + \" : \" + str(app[5]))\n",
    "    elif app[11] == \"Music\":\n",
    "        music_apps.append(str(app[1]) + \" : \" + str(app[5]))\n",
    "\n",
    "print(navigation_apps[:10], \"\\n\\n\", reference_apps[:10], \"\\n\\n\", social_apps[:10], \"\\n\\n\", music_apps[:10])"
   ]
  },
  {
   "cell_type": "markdown",
   "metadata": {},
   "source": [
    "As expected, the most popular apps in these four genres significantly inflate the average. Note that the extremely popular apps in the genres \"Navigation\", \"Social Networking\", and \"Music\" were created by large corporations and thus likely require a lot of capital to design. Thus, although the apps are incredibly popular and likely profitable, a sole app developer would not be capable of creating an app such as these by himself.\n",
    "\n",
    "While the most popular apps in the \"Reference\" genre don't appear to have been created by large companies, most of them look as though they require large databases (Bible, Dictionaries, Google Translate, etc.) in order to create, so they would also likely be capital intensive."
   ]
  },
  {
   "cell_type": "markdown",
   "metadata": {},
   "source": [
    "### c) Sorting Genres in the Apple App Store by Highest Median\n",
    "\n",
    "Since the four genres above have an inflated average (in terms of number of reviews) due to several extraordinarily popular apps, the vast majority of app developers are not going to have the capital, resources, or ability to develop one of these apps. Thus, I will resort the genre categories by their median rather than by their average to give a more accurate representation as to how many downloads an app developer could expect to earn by creating an app in one of these genre categories. Lets parse through all of the categories once again and sort them by their median number of ratings rather than by their average number of ratings."
   ]
  },
  {
   "cell_type": "code",
   "execution_count": 28,
   "metadata": {},
   "outputs": [
    {
     "name": "stdout",
     "output_type": "stream",
     "text": [
      "Productivity: \n",
      "  Median Number of Ratings: 8737.5 \n",
      "  Average Number of Ratings: 21028.41 \n",
      "  Frequency: 1.74 \n",
      "\n",
      "Navigation: \n",
      "  Median Number of Ratings: 8196.5 \n",
      "  Average Number of Ratings: 86090.33 \n",
      "  Frequency: 0.19 \n",
      "\n",
      "Reference: \n",
      "  Median Number of Ratings: 6614.0 \n",
      "  Average Number of Ratings: 74942.11 \n",
      "  Frequency: 0.56 \n",
      "\n",
      "Shopping: \n",
      "  Median Number of Ratings: 5936.0 \n",
      "  Average Number of Ratings: 26919.69 \n",
      "  Frequency: 2.61 \n",
      "\n",
      "Social Networking: \n",
      "  Median Number of Ratings: 4199.0 \n",
      "  Average Number of Ratings: 71548.35 \n",
      "  Frequency: 3.29 \n",
      "\n",
      "Music: \n",
      "  Median Number of Ratings: 3850.0 \n",
      "  Average Number of Ratings: 57326.53 \n",
      "  Frequency: 2.05 \n",
      "\n",
      "Health & Fitness: \n",
      "  Median Number of Ratings: 2459.0 \n",
      "  Average Number of Ratings: 23298.02 \n",
      "  Frequency: 2.02 \n",
      "\n"
     ]
    }
   ],
   "source": [
    "users_per_genre = []\n",
    "\n",
    "for genre in list(genres):\n",
    "    count = 0\n",
    "    len_gen = 0\n",
    "    temp_gen = []\n",
    "        \n",
    "    for app in apple_free: # counts total ratings\n",
    "        genre_app = app[11]\n",
    "        if genre_app == genre:\n",
    "            num_rating = float(app[5])\n",
    "            count += num_rating\n",
    "            len_gen += 1\n",
    "            temp_gen.append(num_rating) # places the number of ratings for each app into a dictionary to be sorted for median\n",
    "            \n",
    "    avg_ratings = count / len_gen # calculates the average number of ratings per genre\n",
    "    temp_gen = sorted(temp_gen, reverse=True)\n",
    "    \n",
    "    if len_gen % 2 == 0: # calculates the median number of ratings\n",
    "        med_ratings = (temp_gen[int(len_gen / 2)] + temp_gen[int(len_gen / 2) - 1]) / 2\n",
    "    else:\n",
    "        med_ratings = temp_gen[int(len_gen / 2)]\n",
    "    \n",
    "    \n",
    "    users_per_genre.append((med_ratings, avg_ratings, genre))\n",
    "    \n",
    "users_per_genre = sorted(users_per_genre, reverse = True)\n",
    "frequency = freq_table(apple_free, 11)\n",
    "\n",
    "for genre in users_per_genre[:7]:\n",
    "    print(genre[2] + \":\", \"\\n  Median Number of Ratings:\", round(genre[0], 2), \"\\n  Average Number of Ratings:\", round(genre[1], 2), \"\\n  Frequency:\", frequency[genre[2]], \"\\n\")\n",
    "    "
   ]
  },
  {
   "cell_type": "markdown",
   "metadata": {},
   "source": [
    "### d) Best Genres to Design Apple Apps\n",
    "\n",
    "After considering the median number of ratings, the average number of ratings, and the frequency of the apps, it seems as though the best choices for what type of app to develop are \"Productivity\", \"Social Networking\", and \"Reference\". \n",
    "\n",
    "Even though \"Navigation\" had the second highest median (8,196.50) and the highest average (86,090.33) of all the app categories in the Apple store, there were only 6 apps listed within that category, and the largest two (Waze and Google Maps) drastically inflated the average. The fourth largest app in the genre only had 3,582 ratings, which is lower than the medians for our three selected categories. \n",
    "\n",
    "Lets examine the \"Productivity\", \"Social Networking\", and \"Reference\" genres in the table below:\n",
    "\n",
    "|                           | Productivity | Social Networking | Reference |\n",
    "|:--------------|:--------------:|:--------------:|:--------------:|\n",
    "| Median Number of Ratings  | 8,737.5        | 4,199.0             | 6,614.0     |\n",
    "| Average Number of Ratings | 21,028.41      | 71,548.35           | 74,942.11   |\n",
    "| Frequency                 | 1.74          | 3.29                | 0.56        |\n",
    "\n",
    "Apps in the \"Productive\" category have the highest median of any category. They also have a fairly high average compared to most genres, a fairly high frequency, and likely don't require lots of capital or skill to make. An app developer could potentially make some money creating a high-quality product and later monetize the app (if raising revenue is a desire) via ads once the app has gained some popularity. \n",
    "\n",
    "Apps in the \"Social Networking\" category have a average number of ratings that is around three times as large as the average for \"Productivity\" apps, but their median is less than half the median of \"Productivity\" apps. Thus, although there are a good number of \"Social Networking\" apps on the app store, the vast majority of them do not make very much money. However, if you have a team of talented programmers and some decent marketing skills, you might be able to make a reasonably successful app.\n",
    "\n",
    "Determining whether creating an app in the \"Reference\" category is worthwhile is difficult. There are not many apps in the app store under this genre, however they have a high median and an extremely high average. If you have specialized knowledge in a field in which you could create such an app, perhaps this is the right category for you.\n",
    "\n",
    "If you have an app idea that you desire to pursue, go for it. However, you should at least consider that no matter what app you make, it is highly unlikely to be popular unless you are on a team and are making an app for a company. Nevertheless, it's good experience and a fun activity, so consider the above information when determining which type of app you want to design."
   ]
  },
  {
   "cell_type": "markdown",
   "metadata": {},
   "source": [
    "## 5. Comparing the Categories Amongst Google Play Store Apps\n",
    "\n",
    "I will repeat the same process as we did for the iOS apps to determine which types of apps an Android developer should work on. Again, we will focus on the following:\n",
    "- The average number of users per type\n",
    "- The overall popularity of the type\n",
    "- The distribution of app popularity within a type\n",
    "- Which revenue streams are possible with the type\n",
    "- The cost associated with designing the app\n",
    "\n",
    "Let's take a look at the different types of genres."
   ]
  },
  {
   "cell_type": "markdown",
   "metadata": {},
   "source": [
    "### a) Choosing Between the Category and Genre Columns\n",
    "\n",
    "There are two possible columns we could analyze in order to differentiate between types of Android apps: Categories and Genres. Lets take a look at the display table for both of these columns to determine which one to use for our analysis."
   ]
  },
  {
   "cell_type": "code",
   "execution_count": 29,
   "metadata": {
    "scrolled": true
   },
   "outputs": [
    {
     "name": "stdout",
     "output_type": "stream",
     "text": [
      "FAMILY : 18.89\n",
      "GAME : 9.72\n",
      "TOOLS : 8.45\n",
      "BUSINESS : 4.59\n",
      "LIFESTYLE : 3.91\n",
      "PRODUCTIVITY : 3.9\n",
      "FINANCE : 3.7\n",
      "MEDICAL : 3.53\n",
      "SPORTS : 3.4\n",
      "PERSONALIZATION : 3.31\n",
      "COMMUNICATION : 3.24\n",
      "HEALTH_AND_FITNESS : 3.08\n",
      "PHOTOGRAPHY : 2.93\n",
      "NEWS_AND_MAGAZINES : 2.8\n",
      "SOCIAL : 2.66\n",
      "TRAVEL_AND_LOCAL : 2.34\n",
      "SHOPPING : 2.25\n",
      "BOOKS_AND_REFERENCE : 2.15\n",
      "DATING : 1.87\n",
      "VIDEO_PLAYERS : 1.8\n",
      "MAPS_AND_NAVIGATION : 1.4\n",
      "FOOD_AND_DRINK : 1.23\n",
      "EDUCATION : 1.16\n",
      "ENTERTAINMENT : 0.96\n",
      "LIBRARIES_AND_DEMO : 0.94\n",
      "AUTO_AND_VEHICLES : 0.93\n",
      "HOUSE_AND_HOME : 0.83\n",
      "WEATHER : 0.8\n",
      "EVENTS : 0.71\n",
      "PARENTING : 0.66\n",
      "ART_AND_DESIGN : 0.64\n",
      "COMICS : 0.62\n",
      "BEAUTY : 0.6\n"
     ]
    }
   ],
   "source": [
    "display_table(google_free, 1)"
   ]
  },
  {
   "cell_type": "code",
   "execution_count": 30,
   "metadata": {},
   "outputs": [
    {
     "name": "stdout",
     "output_type": "stream",
     "text": [
      "Tools : 8.43\n",
      "Entertainment : 6.05\n",
      "Education : 5.35\n",
      "Business : 4.59\n",
      "Productivity : 3.9\n",
      "Lifestyle : 3.9\n",
      "Finance : 3.7\n",
      "Medical : 3.53\n",
      "Sports : 3.47\n",
      "Personalization : 3.31\n",
      "Communication : 3.24\n",
      "Action : 3.11\n",
      "Health & Fitness : 3.08\n",
      "Photography : 2.93\n",
      "News & Magazines : 2.8\n",
      "Social : 2.66\n",
      "Travel & Local : 2.33\n",
      "Shopping : 2.25\n",
      "Books & Reference : 2.15\n",
      "Simulation : 2.05\n",
      "Dating : 1.87\n",
      "Arcade : 1.84\n",
      "Video Players & Editors : 1.78\n",
      "Casual : 1.76\n",
      "Maps & Navigation : 1.4\n",
      "Food & Drink : 1.23\n",
      "Puzzle : 1.13\n",
      "Racing : 0.99\n",
      "Role Playing : 0.94\n",
      "Libraries & Demo : 0.94\n",
      "Auto & Vehicles : 0.93\n",
      "Strategy : 0.9\n",
      "House & Home : 0.83\n",
      "Weather : 0.8\n",
      "Events : 0.71\n",
      "Adventure : 0.68\n",
      "Comics : 0.61\n",
      "Beauty : 0.6\n",
      "Art & Design : 0.6\n",
      "Parenting : 0.5\n",
      "Card : 0.45\n",
      "Casino : 0.43\n",
      "Trivia : 0.42\n",
      "Educational;Education : 0.4\n",
      "Educational : 0.37\n",
      "Board : 0.37\n",
      "Education;Education : 0.34\n",
      "Word : 0.26\n",
      "Casual;Pretend Play : 0.24\n",
      "Music : 0.2\n",
      "Racing;Action & Adventure : 0.17\n",
      "Puzzle;Brain Games : 0.17\n",
      "Entertainment;Music & Video : 0.17\n",
      "Casual;Brain Games : 0.14\n",
      "Casual;Action & Adventure : 0.14\n",
      "Arcade;Action & Adventure : 0.12\n",
      "Action;Action & Adventure : 0.1\n",
      "Educational;Pretend Play : 0.09\n",
      "Simulation;Action & Adventure : 0.08\n",
      "Parenting;Education : 0.08\n",
      "Entertainment;Brain Games : 0.08\n",
      "Board;Brain Games : 0.08\n",
      "Parenting;Music & Video : 0.07\n",
      "Educational;Brain Games : 0.07\n",
      "Casual;Creativity : 0.07\n",
      "Art & Design;Creativity : 0.07\n",
      "Education;Pretend Play : 0.06\n",
      "Role Playing;Pretend Play : 0.05\n",
      "Education;Creativity : 0.05\n",
      "Role Playing;Action & Adventure : 0.03\n",
      "Puzzle;Action & Adventure : 0.03\n",
      "Entertainment;Creativity : 0.03\n",
      "Entertainment;Action & Adventure : 0.03\n",
      "Educational;Creativity : 0.03\n",
      "Educational;Action & Adventure : 0.03\n",
      "Education;Music & Video : 0.03\n",
      "Education;Brain Games : 0.03\n",
      "Education;Action & Adventure : 0.03\n",
      "Adventure;Action & Adventure : 0.03\n",
      "Video Players & Editors;Music & Video : 0.02\n",
      "Sports;Action & Adventure : 0.02\n",
      "Simulation;Pretend Play : 0.02\n",
      "Puzzle;Creativity : 0.02\n",
      "Music;Music & Video : 0.02\n",
      "Entertainment;Pretend Play : 0.02\n",
      "Casual;Education : 0.02\n",
      "Board;Action & Adventure : 0.02\n",
      "Video Players & Editors;Creativity : 0.01\n",
      "Trivia;Education : 0.01\n",
      "Travel & Local;Action & Adventure : 0.01\n",
      "Tools;Education : 0.01\n",
      "Strategy;Education : 0.01\n",
      "Strategy;Creativity : 0.01\n",
      "Strategy;Action & Adventure : 0.01\n",
      "Simulation;Education : 0.01\n",
      "Role Playing;Brain Games : 0.01\n",
      "Racing;Pretend Play : 0.01\n",
      "Puzzle;Education : 0.01\n",
      "Parenting;Brain Games : 0.01\n",
      "Music & Audio;Music & Video : 0.01\n",
      "Lifestyle;Pretend Play : 0.01\n",
      "Lifestyle;Education : 0.01\n",
      "Health & Fitness;Education : 0.01\n",
      "Health & Fitness;Action & Adventure : 0.01\n",
      "Entertainment;Education : 0.01\n",
      "Communication;Creativity : 0.01\n",
      "Comics;Creativity : 0.01\n",
      "Casual;Music & Video : 0.01\n",
      "Card;Action & Adventure : 0.01\n",
      "Books & Reference;Education : 0.01\n",
      "Art & Design;Pretend Play : 0.01\n",
      "Art & Design;Action & Adventure : 0.01\n",
      "Arcade;Pretend Play : 0.01\n",
      "Adventure;Education : 0.01\n"
     ]
    }
   ],
   "source": [
    "display_table(google_free, 9)"
   ]
  },
  {
   "cell_type": "markdown",
   "metadata": {},
   "source": [
    "There are far too many categories in the Genres column to effectively analyze as it appears as though the scope is too narrow for our purposes. Thus, I will analyze the Categories column instead.\n",
    "\n",
    "Because of my experience analyzing the App Store dataset, I will skip a few steps and order the categories based on median number of installs, which appears to be the best indicator of popularity amongst Play Store apps. I will also list the average number of installs as well as the frequency of the installs as both proved to be useful when examing which genre of app an iOS developer should decide to focus on designing.\n",
    "\n",
    "Let's take another look at the breakdown of the Category column."
   ]
  },
  {
   "cell_type": "code",
   "execution_count": 31,
   "metadata": {},
   "outputs": [
    {
     "name": "stdout",
     "output_type": "stream",
     "text": [
      "FAMILY : 18.89\n",
      "GAME : 9.72\n",
      "TOOLS : 8.45\n",
      "BUSINESS : 4.59\n",
      "LIFESTYLE : 3.91\n",
      "PRODUCTIVITY : 3.9\n",
      "FINANCE : 3.7\n",
      "MEDICAL : 3.53\n",
      "SPORTS : 3.4\n",
      "PERSONALIZATION : 3.31\n",
      "COMMUNICATION : 3.24\n",
      "HEALTH_AND_FITNESS : 3.08\n",
      "PHOTOGRAPHY : 2.93\n",
      "NEWS_AND_MAGAZINES : 2.8\n",
      "SOCIAL : 2.66\n",
      "TRAVEL_AND_LOCAL : 2.34\n",
      "SHOPPING : 2.25\n",
      "BOOKS_AND_REFERENCE : 2.15\n",
      "DATING : 1.87\n",
      "VIDEO_PLAYERS : 1.8\n",
      "MAPS_AND_NAVIGATION : 1.4\n",
      "FOOD_AND_DRINK : 1.23\n",
      "EDUCATION : 1.16\n",
      "ENTERTAINMENT : 0.96\n",
      "LIBRARIES_AND_DEMO : 0.94\n",
      "AUTO_AND_VEHICLES : 0.93\n",
      "HOUSE_AND_HOME : 0.83\n",
      "WEATHER : 0.8\n",
      "EVENTS : 0.71\n",
      "PARENTING : 0.66\n",
      "ART_AND_DESIGN : 0.64\n",
      "COMICS : 0.62\n",
      "BEAUTY : 0.6\n"
     ]
    }
   ],
   "source": [
    "display_table(google_free, 1)"
   ]
  },
  {
   "cell_type": "markdown",
   "metadata": {},
   "source": [
    "Practical apps are much more prevalent in the Play Store than they are in the App Store as seen by the breakdown of the Category column. Although \"Games\" is the second most popular category, only two out of ten of the top categories are apps designed for entertainment purposes.\n",
    "- Entertainment = \"Games\" and \"Sports\"\n",
    "- Practical = \"Tools\", \"Business\", \"Productivity\", \"Finance\", and \"Medical\"\n",
    "- Hard to Tell = \"Family\", \"Lifestyle\", and \"Personalization\"\n",
    "\n",
    "This distinction between iOS and Android apps is incredibly important when deciding whether to design the iOS or Android version of your app first. Based on frequecy of the category alone (we will analyze other factors later), if a developer is designing an entertainment-based app, they should create the iOS version first and if they are designing a productivity-based app, they should create the Android version first."
   ]
  },
  {
   "cell_type": "markdown",
   "metadata": {},
   "source": [
    "### b) Examining the Number of Installs\n",
    "\n",
    "I will order the categories by their median number of installs, which is the best indicator of popularity amongst Play Store apps. We will list the average number of installs as well as the frequency of the installs as both proved pertinent when examing the App Store data. The number of installs is stored in discrete bins, so I will use the display_table function to get a better look at these bins."
   ]
  },
  {
   "cell_type": "code",
   "execution_count": 32,
   "metadata": {
    "scrolled": true
   },
   "outputs": [
    {
     "name": "stdout",
     "output_type": "stream",
     "text": [
      "1,000,000+ : 15.75\n",
      "100,000+ : 11.55\n",
      "10,000,000+ : 10.57\n",
      "10,000+ : 10.19\n",
      "1,000+ : 8.39\n",
      "100+ : 6.9\n",
      "5,000,000+ : 6.84\n",
      "500,000+ : 5.55\n",
      "50,000+ : 4.76\n",
      "5,000+ : 4.51\n",
      "10+ : 3.54\n",
      "500+ : 3.26\n",
      "50,000,000+ : 2.31\n",
      "100,000,000+ : 2.13\n",
      "50+ : 1.92\n",
      "5+ : 0.79\n",
      "1+ : 0.51\n",
      "500,000,000+ : 0.27\n",
      "1,000,000,000+ : 0.23\n",
      "0+ : 0.05\n"
     ]
    }
   ],
   "source": [
    "display_table(google_free, 5)"
   ]
  },
  {
   "cell_type": "markdown",
   "metadata": {},
   "source": [
    "Organizing data based on install bins is going to result in a very inacurate median and average as the range of possible values within a bin is very large. For example, an app with 499,000 would be in the same bin as an app with 100,000, making analysis fairly inacurate. However, we could use the Reviews value, which consists of continuous values, to get a more accurate median and average. Although not as good of an indicator of popularity as a number of installs column would be (assuming it contained continuous values), the continuous nature of the reviews column makes it a better value to analyze."
   ]
  },
  {
   "cell_type": "markdown",
   "metadata": {},
   "source": [
    "### c) Examining the Median Number of Reviews\n",
    "\n",
    "I will use a for loop in order to examine the reviews column and create a sorted list of genres based on the median number of review. This list will also include the category's average number of reviews, frequency of apps, and the total number of apps. Then I will use another for loop in order to display the values in an easier-to-read format."
   ]
  },
  {
   "cell_type": "code",
   "execution_count": 33,
   "metadata": {
    "scrolled": false
   },
   "outputs": [
    {
     "name": "stdout",
     "output_type": "stream",
     "text": [
      "Game: \n",
      "  Median Number of Reviews: 35572.0 \n",
      "  Average Number of Reviews: 685108.14 \n",
      "  Frequency: 9.72 \n",
      "  Total Number of Apps: 860 \n",
      "\n",
      "Entertainment: \n",
      "  Median Number of Reviews: 35279.0 \n",
      "  Average Number of Reviews: 301752.25 \n",
      "  Frequency: 0.96 \n",
      "  Total Number of Apps: 85 \n",
      "\n",
      "Photography: \n",
      "  Median Number of Reviews: 32398.0 \n",
      "  Average Number of Reviews: 407197.92 \n",
      "  Frequency: 2.93 \n",
      "  Total Number of Apps: 259 \n",
      "\n",
      "Education: \n",
      "  Median Number of Reviews: 13612.0 \n",
      "  Average Number of Reviews: 56293.1 \n",
      "  Frequency: 1.16 \n",
      "  Total Number of Apps: 103 \n",
      "\n",
      "Shopping: \n",
      "  Median Number of Reviews: 13085.0 \n",
      "  Average Number of Reviews: 223887.35 \n",
      "  Frequency: 2.25 \n",
      "  Total Number of Apps: 199 \n",
      "\n",
      "Weather: \n",
      "  Median Number of Reviews: 11297.0 \n",
      "  Average Number of Reviews: 171250.77 \n",
      "  Frequency: 0.8 \n",
      "  Total Number of Apps: 71 \n",
      "\n",
      "Communication: \n",
      "  Median Number of Reviews: 6454.0 \n",
      "  Average Number of Reviews: 995608.46 \n",
      "  Frequency: 3.24 \n",
      "  Total Number of Apps: 287 \n",
      "\n"
     ]
    }
   ],
   "source": [
    "users_per_category = []\n",
    "categories = freq_table(google_free, 1)\n",
    "\n",
    "for cat in list(categories):\n",
    "    count = 0\n",
    "    len_cat = 0\n",
    "    temp_cat = []\n",
    "        \n",
    "    for app in google_free: # counts total ratings\n",
    "        cat_app = app[1]\n",
    "        if cat_app.capitalize() == cat.capitalize():\n",
    "            reviews = float(app[3])\n",
    "            count += reviews\n",
    "            len_cat += 1\n",
    "            temp_cat.append(reviews) # places the number of ratings for each app into a dictionary to be sorted for median\n",
    "            \n",
    "    avg_reviews = count / len_cat # calculates the average number of ratings per genre\n",
    "    temp_cat = sorted(temp_cat, reverse=True)\n",
    "    \n",
    "    if len_cat % 2 == 0 & len_cat > 0: # calculates the median number of reviews\n",
    "        med_reviews = (temp_cat[int(len_cat / 2)] + temp_gen[int(len_cat / 2) - 1]) / 2\n",
    "    else:\n",
    "        med_reviews = temp_cat[int(len_cat / 2)]\n",
    "     \n",
    "    users_per_category.append((med_reviews, avg_reviews, cat, len_cat))\n",
    "    \n",
    "users_per_category = sorted(users_per_category, reverse = True)\n",
    "\n",
    "for category in users_per_category[:7]:\n",
    "    print(category[2].capitalize() + \":\", \"\\n  Median Number of Reviews:\", round(category[0], 2), \"\\n  Average Number of Reviews:\", round(category[1], 2), \"\\n  Frequency:\", categories[category[2]], \"\\n  Total Number of Apps:\", category[3], \"\\n\")\n"
   ]
  },
  {
   "cell_type": "markdown",
   "metadata": {},
   "source": [
    "### d) Best Categories to Design Play Store Apps\n",
    "\n",
    "The data listed above is extremely confusing, as the median number of reviews is almost always far smaller than the average number of reviews. This suggests the Play Store is dominated by extraordinarily popular apps and the vast majority of apps have very few reviews. \n",
    "\n",
    "Regardless, the best genre to design an app is clearly the \"Game\" genre. It has the highest median number of views, the second highest frequency, and the third highest average number of views. Other decent categories to design would be \"Entertainment\", \"Photography\", and \"Communication\". \n",
    "\n",
    "I've created a table for all four of the categories below:\n",
    "\n",
    "|                           | Game       | Entertainment | Photography | Communication |\n",
    "|:--------------------------|:----------:|:-------------:|:-----------:|:-------------:|\n",
    "| Median Number of Reviews  | 35,572.0   | 35,279.0      | 32,398.0    | 6,454.0       |\n",
    "| Average Number of Reviews | 685,108.14 | 301,752.25    | 407,197.92  | 995,608.46    |\n",
    "| Frequency                 | 9.72       | 0.96          | 2.93        | 3.24          |"
   ]
  },
  {
   "cell_type": "markdown",
   "metadata": {},
   "source": [
    "## 6. Results\n",
    "\n",
    "There are several key differences between apps in the Apple App Store and the Google Play Store that are of note.\n",
    "\n",
    "There were very few duplicates in the App Store (only 3) whereas there were many in the Play Store (over 1200). Although the duplicates were removed before I began my analysis, this suggests that the App Store dataset was more significantly cleaned than that of the Play Store and thus contains more reliable data.\n",
    "\n",
    "A much higher percentage of the iOS apps (approximately 14%) contained many non-Roman characters than did Android apps (approximately 0.5%). Therefore, it is reasonable to hypothesize that more iOS apps target non-Western markets than do Android apps. Thus, if you intend to target your app for one of these markets, choosing to create an iOS app might be a wise decision. \n",
    "\n",
    "Nearly half of the apps in the App Store cost money (approximately 48%) whereas less than 8% of apps in the Play Store cost money. Thus I hypothesize that App Store customers are more willing to pay for apps than Play Store customers, so if you are creating an App Store app, perhaps charging for the app is a feasible way to monetize it.\n",
    "\n",
    "The most frequent genres in the App Store are primarily entertainment-based:\n",
    "1. Games, 58 percent\n",
    "2. Entertainment, 8 percent\n",
    "3. Photo/Video, 5 percent\n",
    "\n",
    "However, the most frequent categories in the Play Store are primarily practical-based:\n",
    "1. Family, 19 percent\n",
    "2. Games, 10 percent\n",
    "3. Tools, 8.5 percent\n",
    "4. Business, 4.5 percent\n",
    "5. Lifestyle, 4 percent\n",
    "  \n",
    "Although the most frequent apps in the App Store are entertainment-based, the best in terms of popularity where primarily practical-based (\"Productivity\" and \"Reference\") whereas the best apps in terms of popularity on the Play Store were entertainment-based (\"Game\", \"Entertainment\", \"Photography\"). This suggests there is an weak inverse relationship between frequency of the genre and that genre's overall success (determined by multiple measures, including median reviews, average reviews, and frequency), which could result from the fact that the more apps that are designed in a given category, the more competition each app has and thus is less likely to be downloaded.\n",
    "\n",
    "Ultimately, a new developer should consider these factors when deciding which types of apps he or she should develop. Understanding the App Store and Play Store marketplaces can be incredibly beneficial when designing your app, especially if you care about profitability. Hopefully this project will help new iOS and Android developers better understand the challenges they will face when developing a new app."
   ]
  }
 ],
 "metadata": {
  "kernelspec": {
   "display_name": "Python 3",
   "language": "python",
   "name": "python3"
  },
  "language_info": {
   "codemirror_mode": {
    "name": "ipython",
    "version": 3
   },
   "file_extension": ".py",
   "mimetype": "text/x-python",
   "name": "python",
   "nbconvert_exporter": "python",
   "pygments_lexer": "ipython3",
   "version": "3.7.4"
  }
 },
 "nbformat": 4,
 "nbformat_minor": 2
}
